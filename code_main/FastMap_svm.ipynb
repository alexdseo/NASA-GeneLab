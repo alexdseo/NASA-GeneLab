{
 "cells": [
  {
   "cell_type": "code",
   "execution_count": 7,
   "id": "eda997c4",
   "metadata": {},
   "outputs": [],
   "source": [
    "import fastmap\n",
    "import h5py\n",
    "import matplotlib.pyplot as plt\n",
    "import numpy as np\n",
    "import sklearn.metrics\n",
    "import sklearn.pipeline\n",
    "import sklearn.preprocessing\n",
    "import sklearn.svm\n",
    "import pandas as pd"
   ]
  },
  {
   "cell_type": "code",
   "execution_count": 16,
   "id": "061250af",
   "metadata": {},
   "outputs": [],
   "source": [
    "nc_all=pd.read_csv('/Users/alexdseo/Documents/Research Intern/RACARA/GLDS-120_rna_seq_Normalized_Counts.csv')"
   ]
  },
  {
   "cell_type": "code",
   "execution_count": 17,
   "id": "68aeb370",
   "metadata": {},
   "outputs": [],
   "source": [
    "nc_all.rename( columns={'Unnamed: 0' :'RNA_seq'}, inplace=True )"
   ]
  },
  {
   "cell_type": "code",
   "execution_count": 18,
   "id": "0a356a91",
   "metadata": {},
   "outputs": [],
   "source": [
    "# Reorder columns\n",
    "nc_all2=nc_all[['RNA_seq', 'Atha_Col-0_root_FLT_Alight_Rep1_GSM2493777_Day13',\n",
    "                'Atha_Col-0_root_FLT_Alight_Rep2_GSM2493778_Day13',\n",
    "                'Atha_Col-0_root_FLT_Alight_Rep3_GSM2493779_Day13',\n",
    "                'Atha_Col-0-PhyD_root_FLT_Alight_Rep1_GSM2493783_Day13',\n",
    "                'Atha_Col-0-PhyD_root_FLT_Alight_Rep2_GSM2493784_Day13',\n",
    "                'Atha_Col-0-PhyD_root_FLT_Alight_Rep3_GSM2493785_Day13',\n",
    "                'Atha_Ws_root_FLT_Alight_Rep1_GSM2493780_Day13',\n",
    "                'Atha_Ws_root_FLT_Alight_Rep2_GSM2493781_Day13',\n",
    "                'Atha_Ws_root_FLT_Alight_Rep3_GSM2493782_Day13',\n",
    "                'Atha_Col-0_root_FLT_dark_Rep1_GSM2493786_Day13',\n",
    "                'Atha_Col-0_root_FLT_dark_Rep2_GSM2493787_Day13',\n",
    "                'Atha_Col-0_root_FLT_dark_Rep3_GSM2493788_Day13',\n",
    "                'Atha_Col-0-PhyD_root_FLT_dark_Rep1_GSM2493792_Day13',\n",
    "                'Atha_Col-0-PhyD_root_FLT_dark_Rep2_GSM2493793_Day13',\n",
    "                'Atha_Col-0-PhyD_root_FLT_dark_Rep3_GSM2493794_Day13',\n",
    "                'Atha_Ws_root_FLT_dark_Rep1_GSM2493789_Day13',\n",
    "                   'Atha_Ws_root_FLT_dark_Rep2_GSM2493790_Day13',\n",
    "                   'Atha_Ws_root_FLT_dark_Rep3_GSM2493791_Day13',\n",
    "                'Atha_Col-0_root_GC_Alight_Rep1_GSM2493759_Day13',\n",
    "                   'Atha_Col-0_root_GC_Alight_Rep2_GSM2493760_Day13',\n",
    "                   'Atha_Col-0_root_GC_Alight_Rep3_GSM2493761_Day13',\n",
    "                'Atha_Col-0-PhyD_root_GC_Alight_Rep1_GSM2493765_Day13',\n",
    "                   'Atha_Col-0-PhyD_root_GC_Alight_Rep2_GSM2493766_Day13',\n",
    "                   'Atha_Col-0-PhyD_root_GC_Alight_Rep3_GSM2493767_Day13',\n",
    "                                   'Atha_Ws_root_GC_Alight_Rep1_GSM2493762_Day13',\n",
    "                   'Atha_Ws_root_GC_Alight_Rep2_GSM2493763_Day13',\n",
    "                   'Atha_Ws_root_GC_Alight_Rep3_GSM2493764_Day13',\n",
    "                   'Atha_Col-0_root_GC_dark_Rep1_GSM2493768_Day13',\n",
    "                   'Atha_Col-0_root_GC_dark_Rep2_GSM2493769_Day13',\n",
    "                   'Atha_Col-0_root_GC_dark_Rep3_GSM2493770_Day13',\n",
    "                   'Atha_Col-0-PhyD_root_GC_dark_Rep1_GSM2493774_Day13',\n",
    "                   'Atha_Col-0-PhyD_root_GC_dark_Rep2_GSM2493775_Day13',\n",
    "                   'Atha_Col-0-PhyD_root_GC_dark_Rep3_GSM2493776_Day13',\n",
    "                'Atha_Ws_root_GC_dark_Rep1_GSM2493771_Day13',\n",
    "                   'Atha_Ws_root_GC_dark_Rep2_GSM2493772_Day13',\n",
    "                   'Atha_Ws_root_GC_dark_Rep3_GSM2493773_Day13']]"
   ]
  },
  {
   "cell_type": "code",
   "execution_count": 19,
   "id": "50123051",
   "metadata": {},
   "outputs": [
    {
     "data": {
      "text/html": [
       "<div>\n",
       "<style scoped>\n",
       "    .dataframe tbody tr th:only-of-type {\n",
       "        vertical-align: middle;\n",
       "    }\n",
       "\n",
       "    .dataframe tbody tr th {\n",
       "        vertical-align: top;\n",
       "    }\n",
       "\n",
       "    .dataframe thead th {\n",
       "        text-align: right;\n",
       "    }\n",
       "</style>\n",
       "<table border=\"1\" class=\"dataframe\">\n",
       "  <thead>\n",
       "    <tr style=\"text-align: right;\">\n",
       "      <th></th>\n",
       "      <th>RNA_seq</th>\n",
       "      <th>Location</th>\n",
       "      <th>Rep1_c_l</th>\n",
       "      <th>Rep2_c_l</th>\n",
       "      <th>Rep3_c_l</th>\n",
       "      <th>Rep1_p_l</th>\n",
       "      <th>Rep2_p_l</th>\n",
       "      <th>Rep3_p_l</th>\n",
       "      <th>Rep1_w_l</th>\n",
       "      <th>Rep2_w_l</th>\n",
       "      <th>Rep3_w_l</th>\n",
       "      <th>Rep1_c_d</th>\n",
       "      <th>Rep2_c_d</th>\n",
       "      <th>Rep3_c_d</th>\n",
       "      <th>Rep1_p_d</th>\n",
       "      <th>Rep2_p_d</th>\n",
       "      <th>Rep3_p_d</th>\n",
       "      <th>Rep1_w_d</th>\n",
       "      <th>Rep2_w_d</th>\n",
       "      <th>Rep3_w_d</th>\n",
       "    </tr>\n",
       "  </thead>\n",
       "  <tbody>\n",
       "    <tr>\n",
       "      <th>0</th>\n",
       "      <td>AT1G01010</td>\n",
       "      <td>FLT</td>\n",
       "      <td>247.594834</td>\n",
       "      <td>221.299634</td>\n",
       "      <td>328.875256</td>\n",
       "      <td>253.884065</td>\n",
       "      <td>275.393343</td>\n",
       "      <td>486.247724</td>\n",
       "      <td>204.291408</td>\n",
       "      <td>183.830544</td>\n",
       "      <td>194.349657</td>\n",
       "      <td>424.846381</td>\n",
       "      <td>147.993850</td>\n",
       "      <td>277.181771</td>\n",
       "      <td>398.108571</td>\n",
       "      <td>104.632768</td>\n",
       "      <td>85.671819</td>\n",
       "      <td>115.873687</td>\n",
       "      <td>309.807212</td>\n",
       "      <td>320.965086</td>\n",
       "    </tr>\n",
       "    <tr>\n",
       "      <th>1</th>\n",
       "      <td>AT1G01010</td>\n",
       "      <td>GC</td>\n",
       "      <td>114.903911</td>\n",
       "      <td>138.527045</td>\n",
       "      <td>105.631417</td>\n",
       "      <td>242.522087</td>\n",
       "      <td>412.252180</td>\n",
       "      <td>210.848379</td>\n",
       "      <td>120.029155</td>\n",
       "      <td>264.939077</td>\n",
       "      <td>191.422436</td>\n",
       "      <td>144.663018</td>\n",
       "      <td>201.741865</td>\n",
       "      <td>285.221585</td>\n",
       "      <td>355.864675</td>\n",
       "      <td>190.024910</td>\n",
       "      <td>319.742539</td>\n",
       "      <td>66.843506</td>\n",
       "      <td>155.468283</td>\n",
       "      <td>198.730734</td>\n",
       "    </tr>\n",
       "    <tr>\n",
       "      <th>2</th>\n",
       "      <td>AT1G01020</td>\n",
       "      <td>FLT</td>\n",
       "      <td>582.003386</td>\n",
       "      <td>525.522545</td>\n",
       "      <td>557.716573</td>\n",
       "      <td>662.721977</td>\n",
       "      <td>620.405261</td>\n",
       "      <td>619.800417</td>\n",
       "      <td>460.643087</td>\n",
       "      <td>727.144235</td>\n",
       "      <td>531.944938</td>\n",
       "      <td>463.444481</td>\n",
       "      <td>713.777447</td>\n",
       "      <td>961.748406</td>\n",
       "      <td>581.378782</td>\n",
       "      <td>749.909700</td>\n",
       "      <td>688.502365</td>\n",
       "      <td>496.329434</td>\n",
       "      <td>569.702452</td>\n",
       "      <td>454.006600</td>\n",
       "    </tr>\n",
       "    <tr>\n",
       "      <th>3</th>\n",
       "      <td>AT1G01020</td>\n",
       "      <td>GC</td>\n",
       "      <td>673.520214</td>\n",
       "      <td>621.787935</td>\n",
       "      <td>559.369964</td>\n",
       "      <td>748.231809</td>\n",
       "      <td>537.976709</td>\n",
       "      <td>739.321906</td>\n",
       "      <td>645.973410</td>\n",
       "      <td>439.206255</td>\n",
       "      <td>522.399132</td>\n",
       "      <td>656.624218</td>\n",
       "      <td>627.928204</td>\n",
       "      <td>633.934741</td>\n",
       "      <td>666.197531</td>\n",
       "      <td>630.215736</td>\n",
       "      <td>621.323888</td>\n",
       "      <td>488.282906</td>\n",
       "      <td>517.722067</td>\n",
       "      <td>516.581267</td>\n",
       "    </tr>\n",
       "    <tr>\n",
       "      <th>4</th>\n",
       "      <td>AT1G01030</td>\n",
       "      <td>FLT</td>\n",
       "      <td>64.785419</td>\n",
       "      <td>54.875704</td>\n",
       "      <td>110.764910</td>\n",
       "      <td>42.589529</td>\n",
       "      <td>58.928829</td>\n",
       "      <td>85.041329</td>\n",
       "      <td>74.235930</td>\n",
       "      <td>153.874754</td>\n",
       "      <td>83.046646</td>\n",
       "      <td>49.956995</td>\n",
       "      <td>80.949832</td>\n",
       "      <td>162.368184</td>\n",
       "      <td>97.235756</td>\n",
       "      <td>182.950314</td>\n",
       "      <td>249.211228</td>\n",
       "      <td>43.760519</td>\n",
       "      <td>105.956723</td>\n",
       "      <td>136.694433</td>\n",
       "    </tr>\n",
       "  </tbody>\n",
       "</table>\n",
       "</div>"
      ],
      "text/plain": [
       "     RNA_seq Location    Rep1_c_l    Rep2_c_l    Rep3_c_l    Rep1_p_l  \\\n",
       "0  AT1G01010      FLT  247.594834  221.299634  328.875256  253.884065   \n",
       "1  AT1G01010       GC  114.903911  138.527045  105.631417  242.522087   \n",
       "2  AT1G01020      FLT  582.003386  525.522545  557.716573  662.721977   \n",
       "3  AT1G01020       GC  673.520214  621.787935  559.369964  748.231809   \n",
       "4  AT1G01030      FLT   64.785419   54.875704  110.764910   42.589529   \n",
       "\n",
       "     Rep2_p_l    Rep3_p_l    Rep1_w_l    Rep2_w_l    Rep3_w_l    Rep1_c_d  \\\n",
       "0  275.393343  486.247724  204.291408  183.830544  194.349657  424.846381   \n",
       "1  412.252180  210.848379  120.029155  264.939077  191.422436  144.663018   \n",
       "2  620.405261  619.800417  460.643087  727.144235  531.944938  463.444481   \n",
       "3  537.976709  739.321906  645.973410  439.206255  522.399132  656.624218   \n",
       "4   58.928829   85.041329   74.235930  153.874754   83.046646   49.956995   \n",
       "\n",
       "     Rep2_c_d    Rep3_c_d    Rep1_p_d    Rep2_p_d    Rep3_p_d    Rep1_w_d  \\\n",
       "0  147.993850  277.181771  398.108571  104.632768   85.671819  115.873687   \n",
       "1  201.741865  285.221585  355.864675  190.024910  319.742539   66.843506   \n",
       "2  713.777447  961.748406  581.378782  749.909700  688.502365  496.329434   \n",
       "3  627.928204  633.934741  666.197531  630.215736  621.323888  488.282906   \n",
       "4   80.949832  162.368184   97.235756  182.950314  249.211228   43.760519   \n",
       "\n",
       "     Rep2_w_d    Rep3_w_d  \n",
       "0  309.807212  320.965086  \n",
       "1  155.468283  198.730734  \n",
       "2  569.702452  454.006600  \n",
       "3  517.722067  516.581267  \n",
       "4  105.956723  136.694433  "
      ]
     },
     "execution_count": 19,
     "metadata": {},
     "output_type": "execute_result"
    }
   ],
   "source": [
    "###Data reconstruction, Make more variables and set the output(Y) variable\n",
    "###You can not use melt() from pandas since there are 3 rep for each segment\n",
    "\n",
    "###replicate each row 12 times for same RNA_seq\n",
    "newnc = pd.DataFrame(np.repeat(nc_all2.values,2,axis=0))\n",
    "#newnc.colums = nc_all.columns\n",
    "\n",
    "###Create Light setting variable\n",
    "\n",
    "###create Location variable\n",
    "LC = pd.DataFrame(\n",
    "{\"Location\" : ['FLT', 'GC']})\n",
    "LC = pd.concat([LC]*len(nc_all2)).reset_index().drop(columns=['index'])\n",
    "\n",
    "###Transpose fpkm values (3 values)\n",
    "ncworna = nc_all2.drop(columns = ['RNA_seq'])\n",
    "D = pd.DataFrame(columns=['Rep1_c_l', 'Rep2_c_l', 'Rep3_c_l',\n",
    "                         'Rep1_p_l', 'Rep2_p_l', 'Rep3_p_l',\n",
    "                         'Rep1_w_l', 'Rep2_w_l', 'Rep3_w_l',\n",
    "                         'Rep1_c_d', 'Rep2_c_d', 'Rep3_c_d',\n",
    "                         'Rep1_p_d', 'Rep2_p_d', 'Rep3_p_d',\n",
    "                         'Rep1_w_d', 'Rep2_w_d', 'Rep3_w_d'])\n",
    "\n",
    "for i in range(len(ncworna)):\n",
    "    s = pd.Series(ncworna.iloc[i]) #Make each row a pandas series\n",
    "    a = np.reshape(s.to_numpy(),(2,18)) #Change Series to numpy and reshape it\n",
    "    #Make each reshaped arrays into dataframe, this one dataframe represent one RNA sequence\n",
    "    d = pd.DataFrame(a, columns=['Rep1_c_l', 'Rep2_c_l', 'Rep3_c_l',\n",
    "                         'Rep1_p_l', 'Rep2_p_l', 'Rep3_p_l',\n",
    "                         'Rep1_w_l', 'Rep2_w_l', 'Rep3_w_l',\n",
    "                         'Rep1_c_d', 'Rep2_c_d', 'Rep3_c_d',\n",
    "                         'Rep1_p_d', 'Rep2_p_d', 'Rep3_p_d',\n",
    "                         'Rep1_w_d', 'Rep2_w_d', 'Rep3_w_d'])\n",
    "    D = pd.concat([D,d]) #concat each dataframe\n",
    "\n",
    "D = D.reset_index().drop(columns=['index'])#Reset index\n",
    "###Add and drop variables\n",
    "newnc = newnc.drop(columns=range(1,37))\n",
    "\n",
    "newnc[\"Location\"] = LC\n",
    "\n",
    "newnc = pd.concat([newnc, D], axis = 1)\n",
    "\n",
    "\n",
    "#Rename column\n",
    "newnc = newnc.rename(columns = {0 : \"RNA_seq\"})\n",
    "#Overview of newly constructed dataset\n",
    "newnc.head()"
   ]
  },
  {
   "cell_type": "code",
   "execution_count": 20,
   "id": "2b43a3df",
   "metadata": {},
   "outputs": [],
   "source": [
    "#Applying models using newly constructed labeled dataset\n",
    "\n",
    "#Label Encoding - One hot encoding on categorical predictors for modeling purpose\n",
    "#ncwd3 = pd.get_dummies(newnc, columns = [\"Genotype\"],drop_first =True)\n",
    "#ncwd3 = pd.get_dummies(ncwd, columns = ['Light_Setting'])\n",
    "ncwd4 = newnc\n",
    "clean_target = {\"Location\": {\"FLT\": 1, \"GC\": 0}}\n",
    "ncwd4.replace(clean_target, inplace = True)\n",
    "\n",
    "#ncwd.head()"
   ]
  },
  {
   "cell_type": "code",
   "execution_count": 21,
   "id": "c536bf54",
   "metadata": {},
   "outputs": [],
   "source": [
    "ncwd4= ncwd4[['RNA_seq','Rep1_c_l', 'Rep2_c_l', 'Rep3_c_l', 'Rep1_p_l', 'Rep2_p_l', 'Rep3_p_l', 'Rep1_w_l', 'Rep2_w_l', 'Rep3_w_l', \n",
    "              'Rep1_c_d', 'Rep2_c_d', 'Rep3_c_d', 'Rep1_p_d', 'Rep2_p_d', 'Rep3_p_d', 'Rep1_w_d', 'Rep2_w_d', 'Rep3_w_d','Location']]"
   ]
  },
  {
   "cell_type": "code",
   "execution_count": 114,
   "id": "2f8f976c",
   "metadata": {},
   "outputs": [],
   "source": [
    "X_train = ncwd4.iloc[:, [1,2,3,4,5,6,7,8,9,10,11,12,13,14,15,16,17,18]].values\n",
    "y_train = ncwd4['Location'].values"
   ]
  },
  {
   "cell_type": "code",
   "execution_count": 115,
   "id": "adb7b9ef",
   "metadata": {},
   "outputs": [],
   "source": [
    "X_train=np.reshape(X_train,(len(X_train),2,9))"
   ]
  },
  {
   "cell_type": "code",
   "execution_count": 116,
   "id": "d35b28ef",
   "metadata": {},
   "outputs": [],
   "source": [
    "def correlation_distance(a, b, axis=-1):\n",
    "        '''\n",
    "        Compute the pair-wise correlation distance matrix.\n",
    "        '''\n",
    "        xcorr = correlate(a, b, axis=axis)\n",
    "        xcorr = np.abs(xcorr)\n",
    "        xcorr = np.nanmean(xcorr, axis=-2)\n",
    "        xcorr = np.max(xcorr, axis=-1)\n",
    "        xcorr = np.clip(xcorr, 0, 1)\n",
    "        \n",
    "        return 1 - xcorr\n",
    "    \n",
    "\n",
    "def correlate(a, b, axis=-1):\n",
    "    A = np.fft.rfft(a, axis=axis)\n",
    "    B = np.fft.rfft(b, axis=axis)\n",
    "    X = A * np.conj(B)\n",
    "    x = np.fft.irfft(X)\n",
    "    x = np.fft.fftshift(x, axes=axis)\n",
    "    norm = np.sqrt(\n",
    "        a.shape[-1] * np.var(a, axis=axis)\n",
    "        *\n",
    "        b.shape[-1] * np.var(b, axis=axis)\n",
    "    )\n",
    "    norm = norm[..., np.newaxis]\n",
    "\n",
    "    return np.nan_to_num(x / norm, neginf=0, posinf=0)"
   ]
  },
  {
   "cell_type": "code",
   "execution_count": 117,
   "id": "54e5a65b",
   "metadata": {},
   "outputs": [],
   "source": [
    "def generic_distance(a, b, axis=-1):\n",
    "    # Build the output array with broadcasting rules applied.\n",
    "    shape = np.broadcast_shapes(a.shape, b.shape)\n",
    "    axis = axis if axis > -1 else len(shape) + axis\n",
    "    shape = shape[:axis] + shape[axis+1:]\n",
    "    output = np.empty(shape)\n",
    "    n_dim = output.ndim\n",
    "\n",
    "    # Loop over elements and compute distances serially.\n",
    "    for ijk in np.ndindex(*output.shape):\n",
    "        ijk_a = tuple([ijk[i] if a.shape[i] != 1 else 0 for i in range(len(ijk))])\n",
    "        ijk_b = tuple([ijk[i] if b.shape[i] != 1 else 0 for i in range(len(ijk))])\n",
    "        output[ijk] = dist(a[ijk_a], b[ijk_b])\n",
    "        \n",
    "    return output\n",
    "        \n",
    "def dist(a, b, axis=-1):\n",
    "    '''\n",
    "    Return the distance between objects a and b.\n",
    "    '''\n",
    "    return np.linalg.norm(a - b, axis=axis)"
   ]
  },
  {
   "cell_type": "code",
   "execution_count": 118,
   "id": "6e785a7b",
   "metadata": {},
   "outputs": [],
   "source": [
    "class FastMap(fastmap.FastMapABC):\n",
    "    def __init__(self, *args, **kwargs):\n",
    "        super().__init__(*args, **kwargs)\n",
    "        self._distance_func = correlation_distance"
   ]
  },
  {
   "cell_type": "code",
   "execution_count": 119,
   "id": "bc99d59d",
   "metadata": {},
   "outputs": [],
   "source": [
    "n_dim = 2 # The number of dimensions for the Euclidean embedding.\n",
    "fastmapsvm = sklearn.pipeline.Pipeline([\n",
    "    ('fastmap', FastMap(n_dim)),\n",
    "    ('scaler', sklearn.preprocessing.StandardScaler()),\n",
    "    ('svc', sklearn.svm.SVC())\n",
    "])"
   ]
  },
  {
   "cell_type": "code",
   "execution_count": 75,
   "id": "02f6c64f",
   "metadata": {},
   "outputs": [],
   "source": [
    "# with h5py.File('data/ridgecrest.hdf5', mode='r') as in_file:\n",
    "#     X_train = in_file['/X/train'][:]\n",
    "#     y_train = in_file['/y/train'][:]\n",
    "\n",
    "#     X_test = in_file['/X/test'][:]\n",
    "#     y_test = in_file['/y/test'][:]"
   ]
  },
  {
   "cell_type": "code",
   "execution_count": 120,
   "id": "db6dd2e1",
   "metadata": {},
   "outputs": [
    {
     "data": {
      "text/plain": [
       "(49480, 2, 9)"
      ]
     },
     "execution_count": 120,
     "metadata": {},
     "output_type": "execute_result"
    }
   ],
   "source": [
    "X_train.shape"
   ]
  },
  {
   "cell_type": "code",
   "execution_count": 121,
   "id": "9a441ce4",
   "metadata": {},
   "outputs": [
    {
     "data": {
      "text/plain": [
       "(49480,)"
      ]
     },
     "execution_count": 121,
     "metadata": {},
     "output_type": "execute_result"
    }
   ],
   "source": [
    "y_train.shape"
   ]
  },
  {
   "cell_type": "code",
   "execution_count": 129,
   "id": "0a299018",
   "metadata": {},
   "outputs": [
    {
     "name": "stderr",
     "output_type": "stream",
     "text": [
      "/var/folders/6j/lkz2v7js2vq494yrtl79cs0h0000gn/T/ipykernel_71082/1723740042.py:27: RuntimeWarning: invalid value encountered in divide\n",
      "  return np.nan_to_num(x / norm, neginf=0, posinf=0)\n",
      "/var/folders/6j/lkz2v7js2vq494yrtl79cs0h0000gn/T/ipykernel_71082/1723740042.py:27: RuntimeWarning: invalid value encountered in divide\n",
      "  return np.nan_to_num(x / norm, neginf=0, posinf=0)\n"
     ]
    },
    {
     "data": {
      "text/plain": [
       "0.5067502021018593"
      ]
     },
     "execution_count": 129,
     "metadata": {},
     "output_type": "execute_result"
    }
   ],
   "source": [
    "fastmapsvm.fit(X_train, y_train)\n",
    "fastmapsvm.score(X_train, y_train)"
   ]
  },
  {
   "cell_type": "code",
   "execution_count": 131,
   "id": "e9752a7a",
   "metadata": {},
   "outputs": [],
   "source": [
    "# # Compute the embedding of the train data\n",
    "# W = fastmapsvm[0].transform(X_train)\n",
    "\n",
    "# plt.close('all')\n",
    "# fig, ax = plt.subplots()\n",
    "# for label in range(2):\n",
    "#     idxs = np.argwhere(y_train == label).flatten()\n",
    "#     ax.scatter(W[idxs, 0], W[idxs, 1])\n",
    "# ax.set_aspect(1)\n",
    "# ax.set_xlabel('$w_0$')\n",
    "# ax.set_ylabel('$w_1$')"
   ]
  }
 ],
 "metadata": {
  "kernelspec": {
   "display_name": "Python 3 (ipykernel)",
   "language": "python",
   "name": "python3"
  },
  "language_info": {
   "codemirror_mode": {
    "name": "ipython",
    "version": 3
   },
   "file_extension": ".py",
   "mimetype": "text/x-python",
   "name": "python",
   "nbconvert_exporter": "python",
   "pygments_lexer": "ipython3",
   "version": "3.9.13"
  }
 },
 "nbformat": 4,
 "nbformat_minor": 5
}
